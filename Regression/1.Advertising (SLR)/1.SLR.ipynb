{
 "cells": [
  {
   "cell_type": "markdown",
   "id": "a529dabf",
   "metadata": {},
   "source": [
    "## Step - 1: Business Problem Understanding\n",
    "- Identify the relationship between total advertising spend and sales?\n",
    "- Our next ad campaign will have a total spend of $200, 000, how many units do we expect to see as a result of this?\n",
    "\n",
    "----> Business problem requirement (project requirement) --> provide analysis based on business\n",
    "\n",
    "----> for cleaning data business understanding are very important\n",
    "\n",
    "\n",
    "----> Whatever the observations you will get that basically means **Data Analysis**"
   ]
  },
  {
   "cell_type": "markdown",
   "id": "58dcc19c",
   "metadata": {},
   "source": [
    ">\n",
    "## DATA SCIENCE PROJECT PHASE;\n",
    "1. Development\n",
    "from starting to model\n",
    "2. Operation\n",
    "future (new) data\n",
    "- (update the latest data, clean & submit to the machine)\n",
    "3. Support\n",
    "\n",
    ">\n",
    "\n",
    "### data understanding steps:\n",
    "- columns check --> continuous/ categorical\n",
    "- data types check\n",
    "- regression/ classification\n",
    "- write columns name (continuous / discrete)\n",
    "- apply .tolist() to the columns"
   ]
  },
  {
   "cell_type": "markdown",
   "id": "a8748eab",
   "metadata": {},
   "source": [
    "## Step - 2 Data Understanding (EDA)\n",
    "----> Data understanding - EDA\n",
    "\n",
    "#### Data\n",
    "This sample data displays sales for a particular product as a function of advertising budgets (in dollars) for TV, radio, and newspaper media.\n",
    "\n",
    "#### Independent variable\n",
    "- TV: Adevertising dollars spent on TV for a single product in a given market (in dollars)\n",
    "- Radio: Advertising dollars spent on Radio\n",
    "- Newspaper: Advertising dollars spent on Newspaper.\n",
    "\n",
    "#### Target variable:\n",
    "- Sales: sales of a single producr in a given market\n",
    "\n",
    ">\n",
    "\n",
    "- Collect & Load Data\n",
    "- Dataset Understanding"
   ]
  },
  {
   "cell_type": "code",
   "execution_count": 1,
   "id": "caad89e5",
   "metadata": {},
   "outputs": [],
   "source": [
    "import warnings\n",
    "warnings.filterwarnings('ignore')"
   ]
  },
  {
   "cell_type": "code",
   "execution_count": 2,
   "id": "d9204f44",
   "metadata": {},
   "outputs": [],
   "source": [
    "import pandas as pd\n",
    "import numpy as np\n",
    "import seaborn as sns\n",
    "import matplotlib.pyplot as plt"
   ]
  },
  {
   "cell_type": "code",
   "execution_count": 3,
   "id": "e9253306",
   "metadata": {},
   "outputs": [
    {
     "data": {
      "text/html": [
       "<div>\n",
       "<style scoped>\n",
       "    .dataframe tbody tr th:only-of-type {\n",
       "        vertical-align: middle;\n",
       "    }\n",
       "\n",
       "    .dataframe tbody tr th {\n",
       "        vertical-align: top;\n",
       "    }\n",
       "\n",
       "    .dataframe thead th {\n",
       "        text-align: right;\n",
       "    }\n",
       "</style>\n",
       "<table border=\"1\" class=\"dataframe\">\n",
       "  <thead>\n",
       "    <tr style=\"text-align: right;\">\n",
       "      <th></th>\n",
       "      <th>TV</th>\n",
       "      <th>radio</th>\n",
       "      <th>newspaper</th>\n",
       "      <th>sales</th>\n",
       "    </tr>\n",
       "  </thead>\n",
       "  <tbody>\n",
       "    <tr>\n",
       "      <th>0</th>\n",
       "      <td>230100</td>\n",
       "      <td>37800</td>\n",
       "      <td>69200</td>\n",
       "      <td>22100</td>\n",
       "    </tr>\n",
       "    <tr>\n",
       "      <th>1</th>\n",
       "      <td>44500</td>\n",
       "      <td>39300</td>\n",
       "      <td>45100</td>\n",
       "      <td>10400</td>\n",
       "    </tr>\n",
       "    <tr>\n",
       "      <th>2</th>\n",
       "      <td>17200</td>\n",
       "      <td>45900</td>\n",
       "      <td>69300</td>\n",
       "      <td>9300</td>\n",
       "    </tr>\n",
       "    <tr>\n",
       "      <th>3</th>\n",
       "      <td>151500</td>\n",
       "      <td>41300</td>\n",
       "      <td>58500</td>\n",
       "      <td>18500</td>\n",
       "    </tr>\n",
       "    <tr>\n",
       "      <th>4</th>\n",
       "      <td>180800</td>\n",
       "      <td>10800</td>\n",
       "      <td>58400</td>\n",
       "      <td>12900</td>\n",
       "    </tr>\n",
       "  </tbody>\n",
       "</table>\n",
       "</div>"
      ],
      "text/plain": [
       "       TV  radio  newspaper  sales\n",
       "0  230100  37800      69200  22100\n",
       "1   44500  39300      45100  10400\n",
       "2   17200  45900      69300   9300\n",
       "3  151500  41300      58500  18500\n",
       "4  180800  10800      58400  12900"
      ]
     },
     "execution_count": 3,
     "metadata": {},
     "output_type": "execute_result"
    }
   ],
   "source": [
    "df = pd.read_csv('Advertising.csv')\n",
    "df.head()"
   ]
  },
  {
   "cell_type": "code",
   "execution_count": 4,
   "id": "18620942",
   "metadata": {},
   "outputs": [
    {
     "name": "stdout",
     "output_type": "stream",
     "text": [
      "<class 'pandas.core.frame.DataFrame'>\n",
      "RangeIndex: 200 entries, 0 to 199\n",
      "Data columns (total 4 columns):\n",
      " #   Column     Non-Null Count  Dtype\n",
      "---  ------     --------------  -----\n",
      " 0   TV         200 non-null    int64\n",
      " 1   radio      200 non-null    int64\n",
      " 2   newspaper  200 non-null    int64\n",
      " 3   sales      200 non-null    int64\n",
      "dtypes: int64(4)\n",
      "memory usage: 6.4 KB\n"
     ]
    }
   ],
   "source": [
    "df.info()"
   ]
  },
  {
   "cell_type": "markdown",
   "id": "86b2dc34",
   "metadata": {},
   "source": [
    "## Step - 3 Data Preprocessing\n",
    "- by combining all the features, we get the 'total spend'\n",
    "\n",
    "----> If column category is same so, you can drop that column (If any column having constant category so you can drop).\n",
    "\n",
    "----> Based on business create new column and drop remaining columns that are not required.\n",
    "\n",
    "----> Cleaning will be done one time and apply model multiple time.\n",
    "\n",
    "----> When you will present your work so never explain step by step process to the client. (never show your code, show analysis visually)"
   ]
  },
  {
   "cell_type": "code",
   "execution_count": 5,
   "id": "61c000aa",
   "metadata": {},
   "outputs": [
    {
     "data": {
      "text/html": [
       "<div>\n",
       "<style scoped>\n",
       "    .dataframe tbody tr th:only-of-type {\n",
       "        vertical-align: middle;\n",
       "    }\n",
       "\n",
       "    .dataframe tbody tr th {\n",
       "        vertical-align: top;\n",
       "    }\n",
       "\n",
       "    .dataframe thead th {\n",
       "        text-align: right;\n",
       "    }\n",
       "</style>\n",
       "<table border=\"1\" class=\"dataframe\">\n",
       "  <thead>\n",
       "    <tr style=\"text-align: right;\">\n",
       "      <th></th>\n",
       "      <th>TV</th>\n",
       "      <th>radio</th>\n",
       "      <th>newspaper</th>\n",
       "      <th>sales</th>\n",
       "      <th>total_spend</th>\n",
       "    </tr>\n",
       "  </thead>\n",
       "  <tbody>\n",
       "    <tr>\n",
       "      <th>0</th>\n",
       "      <td>230100</td>\n",
       "      <td>37800</td>\n",
       "      <td>69200</td>\n",
       "      <td>22100</td>\n",
       "      <td>337100</td>\n",
       "    </tr>\n",
       "    <tr>\n",
       "      <th>1</th>\n",
       "      <td>44500</td>\n",
       "      <td>39300</td>\n",
       "      <td>45100</td>\n",
       "      <td>10400</td>\n",
       "      <td>128900</td>\n",
       "    </tr>\n",
       "    <tr>\n",
       "      <th>2</th>\n",
       "      <td>17200</td>\n",
       "      <td>45900</td>\n",
       "      <td>69300</td>\n",
       "      <td>9300</td>\n",
       "      <td>132400</td>\n",
       "    </tr>\n",
       "    <tr>\n",
       "      <th>3</th>\n",
       "      <td>151500</td>\n",
       "      <td>41300</td>\n",
       "      <td>58500</td>\n",
       "      <td>18500</td>\n",
       "      <td>251300</td>\n",
       "    </tr>\n",
       "    <tr>\n",
       "      <th>4</th>\n",
       "      <td>180800</td>\n",
       "      <td>10800</td>\n",
       "      <td>58400</td>\n",
       "      <td>12900</td>\n",
       "      <td>250000</td>\n",
       "    </tr>\n",
       "  </tbody>\n",
       "</table>\n",
       "</div>"
      ],
      "text/plain": [
       "       TV  radio  newspaper  sales  total_spend\n",
       "0  230100  37800      69200  22100       337100\n",
       "1   44500  39300      45100  10400       128900\n",
       "2   17200  45900      69300   9300       132400\n",
       "3  151500  41300      58500  18500       251300\n",
       "4  180800  10800      58400  12900       250000"
      ]
     },
     "execution_count": 5,
     "metadata": {},
     "output_type": "execute_result"
    }
   ],
   "source": [
    "df['total_spend'] = df['TV'] + df['radio'] + df['newspaper']\n",
    "df.head()"
   ]
  },
  {
   "cell_type": "code",
   "execution_count": 6,
   "id": "1a7152ea",
   "metadata": {
    "scrolled": true
   },
   "outputs": [
    {
     "data": {
      "text/html": [
       "<div>\n",
       "<style scoped>\n",
       "    .dataframe tbody tr th:only-of-type {\n",
       "        vertical-align: middle;\n",
       "    }\n",
       "\n",
       "    .dataframe tbody tr th {\n",
       "        vertical-align: top;\n",
       "    }\n",
       "\n",
       "    .dataframe thead th {\n",
       "        text-align: right;\n",
       "    }\n",
       "</style>\n",
       "<table border=\"1\" class=\"dataframe\">\n",
       "  <thead>\n",
       "    <tr style=\"text-align: right;\">\n",
       "      <th></th>\n",
       "      <th>sales</th>\n",
       "      <th>total_spend</th>\n",
       "    </tr>\n",
       "  </thead>\n",
       "  <tbody>\n",
       "    <tr>\n",
       "      <th>0</th>\n",
       "      <td>22100</td>\n",
       "      <td>337100</td>\n",
       "    </tr>\n",
       "    <tr>\n",
       "      <th>1</th>\n",
       "      <td>10400</td>\n",
       "      <td>128900</td>\n",
       "    </tr>\n",
       "    <tr>\n",
       "      <th>2</th>\n",
       "      <td>9300</td>\n",
       "      <td>132400</td>\n",
       "    </tr>\n",
       "    <tr>\n",
       "      <th>3</th>\n",
       "      <td>18500</td>\n",
       "      <td>251300</td>\n",
       "    </tr>\n",
       "    <tr>\n",
       "      <th>4</th>\n",
       "      <td>12900</td>\n",
       "      <td>250000</td>\n",
       "    </tr>\n",
       "  </tbody>\n",
       "</table>\n",
       "</div>"
      ],
      "text/plain": [
       "   sales  total_spend\n",
       "0  22100       337100\n",
       "1  10400       128900\n",
       "2   9300       132400\n",
       "3  18500       251300\n",
       "4  12900       250000"
      ]
     },
     "execution_count": 6,
     "metadata": {},
     "output_type": "execute_result"
    }
   ],
   "source": [
    "df.drop(columns=['TV', 'radio', 'newspaper'], inplace=True)\n",
    "df.head()"
   ]
  },
  {
   "cell_type": "markdown",
   "id": "7cc8f35f",
   "metadata": {},
   "source": [
    "#### Exploratory Data Analysis (EDA)"
   ]
  },
  {
   "cell_type": "code",
   "execution_count": 7,
   "id": "69ba0d1d",
   "metadata": {},
   "outputs": [
    {
     "data": {
      "text/html": [
       "<div>\n",
       "<style scoped>\n",
       "    .dataframe tbody tr th:only-of-type {\n",
       "        vertical-align: middle;\n",
       "    }\n",
       "\n",
       "    .dataframe tbody tr th {\n",
       "        vertical-align: top;\n",
       "    }\n",
       "\n",
       "    .dataframe thead th {\n",
       "        text-align: right;\n",
       "    }\n",
       "</style>\n",
       "<table border=\"1\" class=\"dataframe\">\n",
       "  <thead>\n",
       "    <tr style=\"text-align: right;\">\n",
       "      <th></th>\n",
       "      <th>sales</th>\n",
       "      <th>total_spend</th>\n",
       "    </tr>\n",
       "  </thead>\n",
       "  <tbody>\n",
       "    <tr>\n",
       "      <th>count</th>\n",
       "      <td>200.000000</td>\n",
       "      <td>200.000000</td>\n",
       "    </tr>\n",
       "    <tr>\n",
       "      <th>mean</th>\n",
       "      <td>14022.500000</td>\n",
       "      <td>200860.500000</td>\n",
       "    </tr>\n",
       "    <tr>\n",
       "      <th>std</th>\n",
       "      <td>5217.456566</td>\n",
       "      <td>92985.180587</td>\n",
       "    </tr>\n",
       "    <tr>\n",
       "      <th>min</th>\n",
       "      <td>1600.000000</td>\n",
       "      <td>11700.000000</td>\n",
       "    </tr>\n",
       "    <tr>\n",
       "      <th>25%</th>\n",
       "      <td>10375.000000</td>\n",
       "      <td>123550.000000</td>\n",
       "    </tr>\n",
       "    <tr>\n",
       "      <th>50%</th>\n",
       "      <td>12900.000000</td>\n",
       "      <td>207350.000000</td>\n",
       "    </tr>\n",
       "    <tr>\n",
       "      <th>75%</th>\n",
       "      <td>17400.000000</td>\n",
       "      <td>281125.000000</td>\n",
       "    </tr>\n",
       "    <tr>\n",
       "      <th>max</th>\n",
       "      <td>27000.000000</td>\n",
       "      <td>433600.000000</td>\n",
       "    </tr>\n",
       "  </tbody>\n",
       "</table>\n",
       "</div>"
      ],
      "text/plain": [
       "              sales    total_spend\n",
       "count    200.000000     200.000000\n",
       "mean   14022.500000  200860.500000\n",
       "std     5217.456566   92985.180587\n",
       "min     1600.000000   11700.000000\n",
       "25%    10375.000000  123550.000000\n",
       "50%    12900.000000  207350.000000\n",
       "75%    17400.000000  281125.000000\n",
       "max    27000.000000  433600.000000"
      ]
     },
     "execution_count": 7,
     "metadata": {},
     "output_type": "execute_result"
    }
   ],
   "source": [
    "df.describe()"
   ]
  },
  {
   "cell_type": "code",
   "execution_count": 8,
   "id": "2e75f70e",
   "metadata": {
    "scrolled": false
   },
   "outputs": [
    {
     "data": {
      "image/png": "[encoded data removed]",
      "text/plain": [
       "<Figure size 500x500 with 6 Axes>"
      ]
     },
     "metadata": {},
     "output_type": "display_data"
    }
   ],
   "source": [
    "sns.pairplot(df)\n",
    "plt.show()"
   ]
  },
  {
   "cell_type": "code",
   "execution_count": 9,
   "id": "3ebfc87a",
   "metadata": {},
   "outputs": [
    {
     "data": {
      "text/html": [
       "<div>\n",
       "<style scoped>\n",
       "    .dataframe tbody tr th:only-of-type {\n",
       "        vertical-align: middle;\n",
       "    }\n",
       "\n",
       "    .dataframe tbody tr th {\n",
       "        vertical-align: top;\n",
       "    }\n",
       "\n",
       "    .dataframe thead th {\n",
       "        text-align: right;\n",
       "    }\n",
       "</style>\n",
       "<table border=\"1\" class=\"dataframe\">\n",
       "  <thead>\n",
       "    <tr style=\"text-align: right;\">\n",
       "      <th></th>\n",
       "      <th>sales</th>\n",
       "      <th>total_spend</th>\n",
       "    </tr>\n",
       "  </thead>\n",
       "  <tbody>\n",
       "    <tr>\n",
       "      <th>sales</th>\n",
       "      <td>1.000000</td>\n",
       "      <td>0.867712</td>\n",
       "    </tr>\n",
       "    <tr>\n",
       "      <th>total_spend</th>\n",
       "      <td>0.867712</td>\n",
       "      <td>1.000000</td>\n",
       "    </tr>\n",
       "  </tbody>\n",
       "</table>\n",
       "</div>"
      ],
      "text/plain": [
       "                sales  total_spend\n",
       "sales        1.000000     0.867712\n",
       "total_spend  0.867712     1.000000"
      ]
     },
     "execution_count": 9,
     "metadata": {},
     "output_type": "execute_result"
    }
   ],
   "source": [
    "df.corr()"
   ]
  },
  {
   "cell_type": "markdown",
   "id": "4650015b",
   "metadata": {},
   "source": [
    "----> \n",
    "----\n",
    ">\n",
    "- Till EDA --> data analysis / data understanding\n",
    "- Data understanding used only on raw data\n",
    "- Till corr(), we have raw data \n",
    "\n",
    "Data cleaning + encoding --> for data preparation\n",
    "\n",
    "In data preparation and data preprocessing stage \n",
    "\n",
    "1.\tData cleaning (Mandatory)\n",
    "\n",
    "2.\tEncoding (Mandatory)\n",
    ">Fit calculate only on numbers that’s why we do encoding\n",
    "\n",
    "3.\tScaling (not mandatory)\n",
    ">Scaling brings all number at same magnitude\n",
    "\n",
    "- Feature high magnitude \n",
    "- Column with big numbers --> (this statement is a common english word, don’t speak this for interview)\n",
    "- Some input feature with high magnitude & some input features with low magnitude in that case we will use scaling.\n",
    "\n",
    "4.\tTransformation (not mandatory)\n",
    "\n",
    "Whatever data you provide to the machine, it’ll give relation but answer will be worst. (accuracy low)\n",
    "\n",
    "So, in order to avoid low accuracy, we need to remove outliers\n",
    "\n",
    "Fit: you are required to do data cleaning apart from outliers & encoding or else, you will get an error.\n",
    "\n",
    "In some cases, outliers are important and we will try our data cleaning with or without outliers & we will check the result.\n"
   ]
  },
  {
   "cell_type": "markdown",
   "id": "a9c79b34",
   "metadata": {},
   "source": [
    "#### Data Cleaning"
   ]
  },
  {
   "cell_type": "code",
   "execution_count": 10,
   "id": "e87456da",
   "metadata": {},
   "outputs": [
    {
     "data": {
      "text/plain": [
       "sales          0\n",
       "total_spend    0\n",
       "dtype: int64"
      ]
     },
     "execution_count": 10,
     "metadata": {},
     "output_type": "execute_result"
    }
   ],
   "source": [
    "df.isnull().sum()"
   ]
  },
  {
   "cell_type": "markdown",
   "id": "4443bdf4",
   "metadata": {},
   "source": [
    "#### Data Wrangling"
   ]
  },
  {
   "cell_type": "code",
   "execution_count": 11,
   "id": "0101e08b",
   "metadata": {},
   "outputs": [],
   "source": [
    "# no encoding is required here because no categorical data is given"
   ]
  },
  {
   "cell_type": "markdown",
   "id": "5595d51d",
   "metadata": {},
   "source": [
    "#### creating x and y for training and testing"
   ]
  },
  {
   "cell_type": "code",
   "execution_count": 12,
   "id": "fc2f8b0b",
   "metadata": {},
   "outputs": [],
   "source": [
    "X = df[['total_spend']]\n",
    "y = df['sales']"
   ]
  },
  {
   "cell_type": "markdown",
   "id": "8e1c7299",
   "metadata": {},
   "source": [
    "## Step - 4: Modeling"
   ]
  },
  {
   "cell_type": "markdown",
   "id": "078f86f3",
   "metadata": {},
   "source": [
    "### findout the best random_state value "
   ]
  },
  {
   "cell_type": "code",
   "execution_count": 13,
   "id": "9a60830e",
   "metadata": {},
   "outputs": [
    {
     "name": "stdout",
     "output_type": "stream",
     "text": [
      "best random state number: [54]\n"
     ]
    }
   ],
   "source": [
    "from sklearn.model_selection import train_test_split\n",
    "from sklearn.linear_model import LinearRegression\n",
    "from sklearn.model_selection import cross_val_score\n",
    "from sklearn.metrics import r2_score\n",
    "\n",
    "Train = []\n",
    "Test = []\n",
    "CV = []\n",
    "\n",
    "for i in range(0, 100):\n",
    "    X_train, X_test, y_train, y_test = train_test_split(X, y, train_size=0.8, random_state=i)\n",
    "    model = LinearRegression()\n",
    "    model.fit(X_train, y_train)\n",
    "    \n",
    "    ypred_train = model.predict(X_train)\n",
    "    ypred_test = model.predict(X_test)\n",
    "\n",
    "    Train.append(model.score(X_train, y_train))\n",
    "    Test.append(model.score(X_test, y_test))\n",
    "    CV.append(cross_val_score(model, X_train, y_train, cv=5).mean())\n",
    "    \n",
    "em = pd.DataFrame({'Train':Train, 'Test':Test, 'CV':CV})\n",
    "gm = em[(abs(em['Train']-em['Test']) <= 0.05) & (abs(em['Test']-em['CV']) <=0.05)]\n",
    "print('best random state number:', gm[gm['Test']==gm['Test'].max()].index.to_list())"
   ]
  },
  {
   "cell_type": "markdown",
   "id": "e84a40a2",
   "metadata": {},
   "source": [
    "# <font color = aqua> MLR </font> "
   ]
  },
  {
   "cell_type": "markdown",
   "id": "6ee3ee70",
   "metadata": {},
   "source": [
    "### Build a model"
   ]
  },
  {
   "cell_type": "markdown",
   "id": "27812afb",
   "metadata": {},
   "source": [
    "##### NOTE:\n",
    "Remember, you have to made your model in a way so it can predict for the future data.\n",
    "\n",
    "you need to check for the future data how it will work\n",
    "\n",
    "because after you will build your model, client will have some data for testing your model \n",
    "\n",
    "(client data --> testing data)\n",
    "\n",
    "fit is applicable only on training data."
   ]
  },
  {
   "cell_type": "code",
   "execution_count": 14,
   "id": "bc1faa8f",
   "metadata": {},
   "outputs": [],
   "source": [
    "# Train-Test Split\n",
    "from sklearn.model_selection import train_test_split\n",
    "X_train, X_test, y_train, y_test = train_test_split(X, y, train_size=0.8, random_state=54)"
   ]
  },
  {
   "cell_type": "code",
   "execution_count": 15,
   "id": "7928bcf2",
   "metadata": {
    "scrolled": false
   },
   "outputs": [
    {
     "name": "stdout",
     "output_type": "stream",
     "text": [
      "Intercept: 4211.8938155785545\n",
      "Coefficient: [0.04923301]\n",
      "Train R2: 0.7449667662402499\n",
      "Cross Validation Score: 0.7395892032785966\n",
      "Test R2: 0.7833188278305669\n"
     ]
    }
   ],
   "source": [
    "# Modelling\n",
    "from sklearn.linear_model import LinearRegression\n",
    "model = LinearRegression()\n",
    "model.fit(X_train, y_train)\n",
    "print('Intercept:', model.intercept_)\n",
    "print('Coefficient:', model.coef_)\n",
    "\n",
    "# Prediction\n",
    "ypred_train = model.predict(X_train)\n",
    "ypred_test = model.predict(X_test)\n",
    "\n",
    "# Evaluation\n",
    "from sklearn.metrics import r2_score\n",
    "print('Train R2:', model.score(X_train, y_train))\n",
    "from sklearn.model_selection import cross_val_score\n",
    "print('Cross Validation Score:', cross_val_score(model, X_train, y_train, cv=5).mean())\n",
    "print('Test R2:', r2_score(y_test, ypred_test))"
   ]
  },
  {
   "cell_type": "markdown",
   "id": "a50b6e12",
   "metadata": {},
   "source": [
    "#### manually predictions\n",
    "- Intercept: 4211.8938155785545\n",
    "- Coefficient: [0.04923301]\n",
    "\n",
    "sales = 4211.8 + (0.0492 * x)\n",
    "*X_test values are 193200, 77100, 238000, 57700...............*\n",
    "- 4211.8 + (0.0492 * 193200) =\n",
    "- 4211.8 + (0.0492 * 77100) ="
   ]
  },
  {
   "cell_type": "markdown",
   "id": "2c0ed63f",
   "metadata": {},
   "source": [
    "**Mean Absolute Error** (MSE) is the mean of the absolute value of the errors."
   ]
  },
  {
   "cell_type": "code",
   "execution_count": 16,
   "id": "d42deb35",
   "metadata": {},
   "outputs": [
    {
     "name": "stdout",
     "output_type": "stream",
     "text": [
      "Test MAE: 1759.8909895860015\n"
     ]
    }
   ],
   "source": [
    "from sklearn.metrics import mean_absolute_error\n",
    "print('Test MAE:', mean_absolute_error(y_test, ypred_test))"
   ]
  },
  {
   "cell_type": "markdown",
   "id": "2583b577",
   "metadata": {},
   "source": [
    "**Mean Square Error** (MSE) is the mean of the squared errors:"
   ]
  },
  {
   "cell_type": "code",
   "execution_count": 17,
   "id": "9896d207",
   "metadata": {},
   "outputs": [
    {
     "name": "stdout",
     "output_type": "stream",
     "text": [
      "Test MSE: 5655914.879523322\n"
     ]
    }
   ],
   "source": [
    "from sklearn.metrics import mean_squared_error\n",
    "print('Test MSE:', mean_squared_error(y_test,ypred_test))"
   ]
  },
  {
   "cell_type": "markdown",
   "id": "8ec1f941",
   "metadata": {},
   "source": [
    "**Root Mean Square Error** (RMSE) is the square root of the mean of the squared errors:"
   ]
  },
  {
   "cell_type": "code",
   "execution_count": 18,
   "id": "84b9d57b",
   "metadata": {},
   "outputs": [
    {
     "name": "stdout",
     "output_type": "stream",
     "text": [
      "Test RMSE: 2378.216743596622\n"
     ]
    }
   ],
   "source": [
    "print('Test RMSE:', np.sqrt(mean_squared_error(y_test,ypred_test)))"
   ]
  },
  {
   "cell_type": "markdown",
   "id": "6f7b6b28",
   "metadata": {},
   "source": [
    "## Model Selection"
   ]
  },
  {
   "cell_type": "markdown",
   "id": "5dea8c6b",
   "metadata": {},
   "source": [
    "#### Checklist 1: Check whether model is good or either having overfitting/ underfitting problem\n",
    "**(test accuracy == train accuracy)**"
   ]
  },
  {
   "cell_type": "markdown",
   "id": "2f3f807f",
   "metadata": {},
   "source": [
    "#### Checklist 2: Whether the Train Accuracy = Cross Validation Score"
   ]
  },
  {
   "cell_type": "markdown",
   "id": "a110d3c9",
   "metadata": {},
   "source": [
    "----> Train R2 = 0.744 (74.4%)\n",
    "\n",
    "----> CV = 0.739 (73.9%)\n",
    "\n",
    "***the difference between train and cv should be +/- 5%***\n",
    "- consider both almost same\n",
    "- if the difference increase so that's a bad model.\n",
    "- and if model is bad so again you will have to start you process from the starting and may be you need to change your algorithm"
   ]
  },
  {
   "cell_type": "markdown",
   "id": "af168b90",
   "metadata": {},
   "source": [
    "### ==>> After evaluation on training data now your model is ready so you predicted on the test data\n",
    "\n",
    "#### Checklist 3: Check whether, it satisifies the Business Problem Requirements or not"
   ]
  },
  {
   "cell_type": "markdown",
   "id": "58d1b271",
   "metadata": {},
   "source": [
    "----> Train R2: 0.744 (74.4%)\n",
    "\n",
    "----> Test R2 0.783 (78.3%)\n",
    "\n",
    ">\n",
    "\n",
    "as we can see clearly **train accuracy is low** < **test accuracy is high**\n",
    "\n",
    "### Here, we can see clearly this is the best model because the difference between both train and test accuracy is between 0.05% "
   ]
  },
  {
   "cell_type": "markdown",
   "id": "e4a340da",
   "metadata": {},
   "source": [
    "#### Checklist 4: (only for linear Regression) : Check for Assumptions"
   ]
  },
  {
   "cell_type": "markdown",
   "id": "7de8e9e9",
   "metadata": {},
   "source": [
    "#### 1. Linearity of Errors"
   ]
  },
  {
   "cell_type": "code",
   "execution_count": 19,
   "id": "e7150858",
   "metadata": {
    "scrolled": true
   },
   "outputs": [],
   "source": [
    "error = y_test - ypred_test"
   ]
  },
  {
   "cell_type": "code",
   "execution_count": 20,
   "id": "05144701",
   "metadata": {},
   "outputs": [
    {
     "data": {
      "image/png": "[encoded data removed]",
      "text/plain": [
       "<Figure size 400x300 with 1 Axes>"
      ]
     },
     "metadata": {},
     "output_type": "display_data"
    }
   ],
   "source": [
    "plt.figure(figsize=(4, 3))\n",
    "plt.scatter(y_test, error)\n",
    "plt.xlabel('observed_values')\n",
    "plt.ylabel('filtered_values')\n",
    "plt.show()"
   ]
  },
  {
   "cell_type": "markdown",
   "id": "966aed92",
   "metadata": {},
   "source": [
    "#### 2. Normality of Errors"
   ]
  },
  {
   "cell_type": "code",
   "execution_count": 21,
   "id": "a16117b8",
   "metadata": {},
   "outputs": [
    {
     "data": {
      "text/plain": [
       "-0.6980267055281112"
      ]
     },
     "execution_count": 21,
     "metadata": {},
     "output_type": "execute_result"
    }
   ],
   "source": [
    "error.skew()"
   ]
  },
  {
   "cell_type": "code",
   "execution_count": 22,
   "id": "c014f40d",
   "metadata": {
    "scrolled": false
   },
   "outputs": [
    {
     "data": {
      "image/png": "[encoded data removed]",
      "text/plain": [
       "<Figure size 300x300 with 1 Axes>"
      ]
     },
     "metadata": {},
     "output_type": "display_data"
    }
   ],
   "source": [
    "sns.displot(error, kde=True, height=3)\n",
    "plt.show()"
   ]
  },
  {
   "cell_type": "markdown",
   "id": "9f5480e6",
   "metadata": {},
   "source": [
    "#### Equal Variance of Errors (Homoscedasticity)"
   ]
  },
  {
   "cell_type": "code",
   "execution_count": 23,
   "id": "42414dea",
   "metadata": {
    "scrolled": false
   },
   "outputs": [
    {
     "data": {
      "image/png": "[encoded data removed]",
      "text/plain": [
       "<Figure size 400x300 with 1 Axes>"
      ]
     },
     "metadata": {},
     "output_type": "display_data"
    }
   ],
   "source": [
    "import matplotlib.pyplot as plt\n",
    "plt.figure(figsize=(4, 3))\n",
    "plt.scatter(y_test, error)\n",
    "plt.axhline(y=0, color='red')\n",
    "plt.xlabel('fitted_values')\n",
    "plt.ylabel('residuals')\n",
    "plt.show()"
   ]
  },
  {
   "cell_type": "markdown",
   "id": "9b35c8df",
   "metadata": {},
   "source": [
    "#### 4. Variables Significance\n",
    "\n",
    "This line creates an OLS regression model using the formula 'y~X'. In regression notation, y~X means that you are modeling the relationship between the dependent variable y and the independent variable(s) X. The formula essentially specifies the linear regression equation.\n",
    "\n",
    "- y: The dependent variable (response variable).\n",
    "- X: The independent variable(s) (predictor variable(s))."
   ]
  },
  {
   "cell_type": "code",
   "execution_count": 24,
   "id": "a2332a6c",
   "metadata": {
    "scrolled": true
   },
   "outputs": [
    {
     "data": {
      "text/html": [
       "<table class=\"simpletable\">\n",
       "<caption>OLS Regression Results</caption>\n",
       "<tr>\n",
       "  <th>Dep. Variable:</th>         <td>y_train</td>     <th>  R-squared:         </th> <td>   0.745</td>\n",
       "</tr>\n",
       "<tr>\n",
       "  <th>Model:</th>                   <td>OLS</td>       <th>  Adj. R-squared:    </th> <td>   0.743</td>\n",
       "</tr>\n",
       "<tr>\n",
       "  <th>Method:</th>             <td>Least Squares</td>  <th>  F-statistic:       </th> <td>   461.5</td>\n",
       "</tr>\n",
       "<tr>\n",
       "  <th>Date:</th>             <td>Fri, 02 Feb 2024</td> <th>  Prob (F-statistic):</th> <td>9.68e-49</td>\n",
       "</tr>\n",
       "<tr>\n",
       "  <th>Time:</th>                 <td>09:41:52</td>     <th>  Log-Likelihood:    </th> <td> -1487.5</td>\n",
       "</tr>\n",
       "<tr>\n",
       "  <th>No. Observations:</th>      <td>   160</td>      <th>  AIC:               </th> <td>   2979.</td>\n",
       "</tr>\n",
       "<tr>\n",
       "  <th>Df Residuals:</th>          <td>   158</td>      <th>  BIC:               </th> <td>   2985.</td>\n",
       "</tr>\n",
       "<tr>\n",
       "  <th>Df Model:</th>              <td>     1</td>      <th>                     </th>     <td> </td>   \n",
       "</tr>\n",
       "<tr>\n",
       "  <th>Covariance Type:</th>      <td>nonrobust</td>    <th>                     </th>     <td> </td>   \n",
       "</tr>\n",
       "</table>\n",
       "<table class=\"simpletable\">\n",
       "<tr>\n",
       "      <td></td>         <th>coef</th>     <th>std err</th>      <th>t</th>      <th>P>|t|</th>  <th>[0.025</th>    <th>0.975]</th>  \n",
       "</tr>\n",
       "<tr>\n",
       "  <th>Intercept</th> <td> 4211.8938</td> <td>  499.193</td> <td>    8.437</td> <td> 0.000</td> <td> 3225.943</td> <td> 5197.845</td>\n",
       "</tr>\n",
       "<tr>\n",
       "  <th>X_train</th>   <td>    0.0492</td> <td>    0.002</td> <td>   21.483</td> <td> 0.000</td> <td>    0.045</td> <td>    0.054</td>\n",
       "</tr>\n",
       "</table>\n",
       "<table class=\"simpletable\">\n",
       "<tr>\n",
       "  <th>Omnibus:</th>       <td> 5.546</td> <th>  Durbin-Watson:     </th> <td>   2.149</td>\n",
       "</tr>\n",
       "<tr>\n",
       "  <th>Prob(Omnibus):</th> <td> 0.062</td> <th>  Jarque-Bera (JB):  </th> <td>   5.114</td>\n",
       "</tr>\n",
       "<tr>\n",
       "  <th>Skew:</th>          <td>-0.382</td> <th>  Prob(JB):          </th> <td>  0.0775</td>\n",
       "</tr>\n",
       "<tr>\n",
       "  <th>Kurtosis:</th>      <td> 3.430</td> <th>  Cond. No.          </th> <td>5.18e+05</td>\n",
       "</tr>\n",
       "</table><br/><br/>Notes:<br/>[1] Standard Errors assume that the covariance matrix of the errors is correctly specified.<br/>[2] The condition number is large, 5.18e+05. This might indicate that there are<br/>strong multicollinearity or other numerical problems."
      ],
      "text/latex": [
       "\\begin{center}\n",
       "\\begin{tabular}{lclc}\n",
       "\\toprule\n",
       "\\textbf{Dep. Variable:}    &     y\\_train     & \\textbf{  R-squared:         } &     0.745   \\\\\n",
       "\\textbf{Model:}            &       OLS        & \\textbf{  Adj. R-squared:    } &     0.743   \\\\\n",
       "\\textbf{Method:}           &  Least Squares   & \\textbf{  F-statistic:       } &     461.5   \\\\\n",
       "\\textbf{Date:}             & Fri, 02 Feb 2024 & \\textbf{  Prob (F-statistic):} &  9.68e-49   \\\\\n",
       "\\textbf{Time:}             &     09:41:52     & \\textbf{  Log-Likelihood:    } &   -1487.5   \\\\\n",
       "\\textbf{No. Observations:} &         160      & \\textbf{  AIC:               } &     2979.   \\\\\n",
       "\\textbf{Df Residuals:}     &         158      & \\textbf{  BIC:               } &     2985.   \\\\\n",
       "\\textbf{Df Model:}         &           1      & \\textbf{                     } &             \\\\\n",
       "\\textbf{Covariance Type:}  &    nonrobust     & \\textbf{                     } &             \\\\\n",
       "\\bottomrule\n",
       "\\end{tabular}\n",
       "\\begin{tabular}{lcccccc}\n",
       "                   & \\textbf{coef} & \\textbf{std err} & \\textbf{t} & \\textbf{P$> |$t$|$} & \\textbf{[0.025} & \\textbf{0.975]}  \\\\\n",
       "\\midrule\n",
       "\\textbf{Intercept} &    4211.8938  &      499.193     &     8.437  &         0.000        &     3225.943    &     5197.845     \\\\\n",
       "\\textbf{X\\_train}  &       0.0492  &        0.002     &    21.483  &         0.000        &        0.045    &        0.054     \\\\\n",
       "\\bottomrule\n",
       "\\end{tabular}\n",
       "\\begin{tabular}{lclc}\n",
       "\\textbf{Omnibus:}       &  5.546 & \\textbf{  Durbin-Watson:     } &    2.149  \\\\\n",
       "\\textbf{Prob(Omnibus):} &  0.062 & \\textbf{  Jarque-Bera (JB):  } &    5.114  \\\\\n",
       "\\textbf{Skew:}          & -0.382 & \\textbf{  Prob(JB):          } &   0.0775  \\\\\n",
       "\\textbf{Kurtosis:}      &  3.430 & \\textbf{  Cond. No.          } & 5.18e+05  \\\\\n",
       "\\bottomrule\n",
       "\\end{tabular}\n",
       "%\\caption{OLS Regression Results}\n",
       "\\end{center}\n",
       "\n",
       "Notes: \\newline\n",
       " [1] Standard Errors assume that the covariance matrix of the errors is correctly specified. \\newline\n",
       " [2] The condition number is large, 5.18e+05. This might indicate that there are \\newline\n",
       " strong multicollinearity or other numerical problems."
      ],
      "text/plain": [
       "<class 'statsmodels.iolib.summary.Summary'>\n",
       "\"\"\"\n",
       "                            OLS Regression Results                            \n",
       "==============================================================================\n",
       "Dep. Variable:                y_train   R-squared:                       0.745\n",
       "Model:                            OLS   Adj. R-squared:                  0.743\n",
       "Method:                 Least Squares   F-statistic:                     461.5\n",
       "Date:                Fri, 02 Feb 2024   Prob (F-statistic):           9.68e-49\n",
       "Time:                        09:41:52   Log-Likelihood:                -1487.5\n",
       "No. Observations:                 160   AIC:                             2979.\n",
       "Df Residuals:                     158   BIC:                             2985.\n",
       "Df Model:                           1                                         \n",
       "Covariance Type:            nonrobust                                         \n",
       "==============================================================================\n",
       "                 coef    std err          t      P>|t|      [0.025      0.975]\n",
       "------------------------------------------------------------------------------\n",
       "Intercept   4211.8938    499.193      8.437      0.000    3225.943    5197.845\n",
       "X_train        0.0492      0.002     21.483      0.000       0.045       0.054\n",
       "==============================================================================\n",
       "Omnibus:                        5.546   Durbin-Watson:                   2.149\n",
       "Prob(Omnibus):                  0.062   Jarque-Bera (JB):                5.114\n",
       "Skew:                          -0.382   Prob(JB):                       0.0775\n",
       "Kurtosis:                       3.430   Cond. No.                     5.18e+05\n",
       "==============================================================================\n",
       "\n",
       "Notes:\n",
       "[1] Standard Errors assume that the covariance matrix of the errors is correctly specified.\n",
       "[2] The condition number is large, 5.18e+05. This might indicate that there are\n",
       "strong multicollinearity or other numerical problems.\n",
       "\"\"\""
      ]
     },
     "execution_count": 24,
     "metadata": {},
     "output_type": "execute_result"
    }
   ],
   "source": [
    "import statsmodels.formula.api as smf\n",
    "model= smf.ols('y_train ~ X_train', data=X_train).fit()\n",
    "model.summary()"
   ]
  },
  {
   "cell_type": "markdown",
   "id": "a8fe6a63",
   "metadata": {},
   "source": [
    "This line prints a summary of the OLS regression results. The summary includes various statistics and information about the model, such as coefficients, standard errors, t-values, p-values, and more. It's a comprehensive overview of the regression analysis."
   ]
  },
  {
   "cell_type": "markdown",
   "id": "f17e24b3",
   "metadata": {},
   "source": [
    "## Final Model"
   ]
  },
  {
   "cell_type": "code",
   "execution_count": 25,
   "id": "ecee39b0",
   "metadata": {
    "scrolled": true
   },
   "outputs": [
    {
     "name": "stdout",
     "output_type": "stream",
     "text": [
      "Intercept: 4211.8938155785545\n",
      "Coefficients: [0.04923301]\n",
      "Train R2: 0.7449667662402499\n",
      "Train R2: 0.7449667662402499\n",
      "Cross Validation Score: 0.7433783178555419\n",
      "Test R2: 0.7833188278305669\n"
     ]
    }
   ],
   "source": [
    "# Modelling\n",
    "from sklearn.linear_model import LinearRegression\n",
    "model = LinearRegression()\n",
    "\n",
    "X = df[['total_spend']]\n",
    "y = df['sales']\n",
    "\n",
    "from sklearn.model_selection import train_test_split\n",
    "X_train, X_test, y_train, y_test = train_test_split(X, y, train_size=0.8, random_state=54)\n",
    "model.fit(X_train, y_train)\n",
    "\n",
    "print('Intercept:', model.intercept_)\n",
    "print('Coefficients:', model.coef_)\n",
    "\n",
    "\n",
    "# Prediction\n",
    "ypred_train = model.predict(X_train)\n",
    "ypred_test = model.predict(X_test)\n",
    "\n",
    "\n",
    "# Evaluation\n",
    "print('Train R2:', model.score(X_train, y_train))\n",
    "print('Train R2:', r2_score(y_train, ypred_train))\n",
    "\n",
    "print('Cross Validation Score:', cross_val_score(model, X, y, cv=5).mean())\n",
    "print('Test R2:', model.score(X_test, y_test))"
   ]
  },
  {
   "cell_type": "markdown",
   "id": "525b2025",
   "metadata": {},
   "source": [
    "Sales = 0.04923301(totalspend) + 4211.8938155785545\n",
    "\n",
    "#### Interpreting the coefficients\n",
    "\n",
    "- A **1 unit increase in total Spend** is associated with an **increase of 0.0492 units in sales**.\n",
    "- This basically means that for every $10000 dollars spend on Ads, we could expect 492 more units sold."
   ]
  },
  {
   "cell_type": "markdown",
   "id": "4b168d6f",
   "metadata": {},
   "source": [
    ">\n",
    "## Future Data (Prediction)\n",
    "For the future data don't predict directly firstly perform data preprocessing then after that predict on the future data.\n",
    "\n",
    "perform data preprocessing for the future data"
   ]
  },
  {
   "cell_type": "markdown",
   "id": "7126bc20",
   "metadata": {},
   "source": [
    "#### Use the model to make predictions on a new value. For a total spend of 200k on Ads, how many units could we expect to be sold?\n",
    "\n",
    "future data, we will convert into dataframe then we will predict"
   ]
  },
  {
   "cell_type": "code",
   "execution_count": 27,
   "id": "cde1c306",
   "metadata": {},
   "outputs": [
    {
     "data": {
      "text/html": [
       "<div>\n",
       "<style scoped>\n",
       "    .dataframe tbody tr th:only-of-type {\n",
       "        vertical-align: middle;\n",
       "    }\n",
       "\n",
       "    .dataframe tbody tr th {\n",
       "        vertical-align: top;\n",
       "    }\n",
       "\n",
       "    .dataframe thead th {\n",
       "        text-align: right;\n",
       "    }\n",
       "</style>\n",
       "<table border=\"1\" class=\"dataframe\">\n",
       "  <thead>\n",
       "    <tr style=\"text-align: right;\">\n",
       "      <th></th>\n",
       "      <th>total_spend</th>\n",
       "    </tr>\n",
       "  </thead>\n",
       "  <tbody>\n",
       "    <tr>\n",
       "      <th>0</th>\n",
       "      <td>200000</td>\n",
       "    </tr>\n",
       "  </tbody>\n",
       "</table>\n",
       "</div>"
      ],
      "text/plain": [
       "   total_spend\n",
       "0       200000"
      ]
     },
     "execution_count": 27,
     "metadata": {},
     "output_type": "execute_result"
    }
   ],
   "source": [
    "new_data = pd.DataFrame({'total_spend':[200000]})\n",
    "new_data"
   ]
  },
  {
   "cell_type": "code",
   "execution_count": 28,
   "id": "37f9a401",
   "metadata": {},
   "outputs": [
    {
     "data": {
      "text/plain": [
       "array([14058.49569096])"
      ]
     },
     "execution_count": 28,
     "metadata": {},
     "output_type": "execute_result"
    }
   ],
   "source": [
    "model.predict(new_data)"
   ]
  },
  {
   "cell_type": "code",
   "execution_count": 29,
   "id": "11b5c09e",
   "metadata": {},
   "outputs": [
    {
     "data": {
      "text/plain": [
       "14058.495815578555"
      ]
     },
     "execution_count": 29,
     "metadata": {},
     "output_type": "execute_result"
    }
   ],
   "source": [
    "Sales = (0.04923301 * 200000) + 4211.8938155785545\n",
    "Sales"
   ]
  },
  {
   "cell_type": "markdown",
   "id": "b801e707",
   "metadata": {},
   "source": [
    "whatever is the accuracy above mentioned in Test R^2 (0.7742) that would be the accuracy for the future data.\n",
    "\n",
    "Means if we spend 200000 so 13953 units will be sold with 77.4% acuracy \n",
    ">"
   ]
  },
  {
   "cell_type": "markdown",
   "id": "9a473cbf",
   "metadata": {},
   "source": [
    "## Save a Model\n",
    "\n",
    "##### saving model dependent on the deployment team (whether save using joblib or pickle)\n",
    "\n",
    "'wb' - writing mode"
   ]
  },
  {
   "cell_type": "code",
   "execution_count": 30,
   "id": "afb24ffb",
   "metadata": {},
   "outputs": [
    {
     "data": {
      "text/plain": [
       "['sales_model.joblib']"
      ]
     },
     "execution_count": 30,
     "metadata": {},
     "output_type": "execute_result"
    }
   ],
   "source": [
    "from joblib import dump\n",
    "dump(model, 'sales_model.joblib')"
   ]
  },
  {
   "cell_type": "markdown",
   "id": "c4e35371",
   "metadata": {},
   "source": [
    "- Flask (__name__), it will create an empty website\n",
    "- render template, it will run html file\n",
    ">"
   ]
  }
 ],
 "metadata": {
  "kernelspec": {
   "display_name": "Python 3 (ipykernel)",
   "language": "python",
   "name": "python3"
  },
  "language_info": {
   "codemirror_mode": {
    "name": "ipython",
    "version": 3
   },
   "file_extension": ".py",
   "mimetype": "text/x-python",
   "name": "python",
   "nbconvert_exporter": "python",
   "pygments_lexer": "ipython3",
   "version": "3.11.5"
  }
 },
 "nbformat": 4,
 "nbformat_minor": 5
}
